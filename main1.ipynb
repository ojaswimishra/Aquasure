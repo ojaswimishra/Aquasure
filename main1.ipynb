{
  "nbformat": 4,
  "nbformat_minor": 0,
  "metadata": {
    "colab": {
      "provenance": [],
      "authorship_tag": "ABX9TyP7iP49ZTHjwXqfz8eV+wzv",
      "include_colab_link": true
    },
    "kernelspec": {
      "name": "python3",
      "display_name": "Python 3"
    },
    "language_info": {
      "name": "python"
    }
  },
  "cells": [
    {
      "cell_type": "markdown",
      "metadata": {
        "id": "view-in-github",
        "colab_type": "text"
      },
      "source": [
        "<a href=\"https://colab.research.google.com/github/ojaswimishra/Aquasure/blob/main/main1.ipynb\" target=\"_parent\"><img src=\"https://colab.research.google.com/assets/colab-badge.svg\" alt=\"Open In Colab\"/></a>"
      ]
    },
    {
      "cell_type": "code",
      "execution_count": null,
      "metadata": {
        "id": "5JezYhzl8VNq"
      },
      "outputs": [],
      "source": [
        "\n",
        "<!doctype html>\n",
        "<html lang=\"en\">\n",
        "  <head>\n",
        "    <meta charset=\"UTF-8\" />\n",
        "    <link rel=\"icon\" href=\"https://lumi.new/lumi.ing/logo.png\" />\n",
        "    <meta name=\"viewport\" content=\"width=device-width, initial-scale=1.0\" />\n",
        "    <meta name=\"description\" content=\"AQUASURE - AI-Powered India Flood Risk Assessment and Real-time Monitoring System\" />\n",
        "    <title>AQUASURE - India Flood Monitoring System</title>\n",
        "    <link rel=\"stylesheet\" href=\"https://unpkg.com/leaflet@1.9.4/dist/leaflet.css\" />\n",
        "  </head>\n",
        "  <body>\n",
        "    <div id=\"root\"></div>\n",
        "    <script type=\"module\" src=\"/src/main.tsx\"></script>\n",
        "  </body>\n",
        "</html>\n"
      ]
    },
    {
      "cell_type": "code",
      "source": [
        "{\n",
        "  \"name\": \"aquasure-flood-app\",\n",
        "  \"private\": true,\n",
        "  \"version\": \"1.0.0\",\n",
        "  \"type\": \"module\",\n",
        "  \"scripts\": {\n",
        "    \"dev\": \"vite\",\n",
        "    \"build\": \"vite build\",\n",
        "    \"build:dev\": \"vite build --mode development\",\n",
        "    \"lint\": \"eslint .\",\n",
        "    \"preview\": \"vite preview\"\n",
        "  },\n",
        "  \"dependencies\": {\n",
        "    \"react\": \"^18.3.1\",\n",
        "    \"react-dom\": \"^18.3.1\",\n",
        "    \"react-router-dom\": \"^6.26.0\",\n",
        "    \"framer-motion\": \"^10.16.16\",\n",
        "    \"leaflet\": \"^1.9.4\",\n",
        "    \"react-leaflet\": \"^4.2.1\",\n",
        "    \"lucide-react\": \"^0.540.0\",\n",
        "    \"recharts\": \"^2.12.7\",\n",
        "    \"react-hot-toast\": \"^2.4.1\",\n",
        "    \"date-fns\": \"^2.30.0\",\n",
        "    \"clsx\": \"^2.0.0\",\n",
        "    \"@vitejs/plugin-react-swc\": \"^4.0.1\",\n",
        "    \"@lumi.new/sdk\": \"^0.1.7\"\n",
        "  },\n",
        "  \"devDependencies\": {\n",
        "    \"@eslint/js\": \"^9.9.1\",\n",
        "    \"@types/react\": \"^18.3.5\",\n",
        "    \"@types/react-dom\": \"^18.3.0\",\n",
        "    \"@types/leaflet\": \"^1.9.12\",\n",
        "    \"@vitejs/plugin-react\": \"^4.3.1\",\n",
        "    \"autoprefixer\": \"^10.4.21\",\n",
        "    \"eslint\": \"^9.9.1\",\n",
        "    \"eslint-plugin-react-hooks\": \"^5.1.0-rc.0\",\n",
        "    \"eslint-plugin-react-refresh\": \"^0.4.11\",\n",
        "    \"globals\": \"^15.9.0\",\n",
        "    \"postcss\": \"^8.5.6\",\n",
        "    \"tailwindcss\": \"^3.4.17\",\n",
        "    \"typescript\": \"^5.5.3\",\n",
        "    \"typescript-eslint\": \"^8.3.0\",\n",
        "    \"vite\": \"^5.4.2\"\n",
        "  }\n",
        "}"
      ],
      "metadata": {
        "id": "qgvyB4lJ8jYM"
      },
      "execution_count": null,
      "outputs": []
    },
    {
      "cell_type": "code",
      "source": [
        "\n",
        "export default {\n",
        "  plugins: {\n",
        "    tailwindcss: {},\n",
        "    autoprefixer: {},\n",
        "  },\n",
        "}\n"
      ],
      "metadata": {
        "id": "_8aWxl0J8s-b"
      },
      "execution_count": null,
      "outputs": []
    },
    {
      "cell_type": "code",
      "source": [
        "\n",
        "/** @type {import('tailwindcss').Config} */\n",
        "export default {\n",
        "  content: [\n",
        "    \"./index.html\",\n",
        "    \"./src/**/*.{js,ts,jsx,tsx}\",\n",
        "  ],\n",
        "  theme: {\n",
        "    extend: {},\n",
        "  },\n",
        "  plugins: [],\n",
        "}\n"
      ],
      "metadata": {
        "id": "0LtdNK0J88dj"
      },
      "execution_count": null,
      "outputs": []
    },
    {
      "cell_type": "code",
      "source": [
        "\n",
        "{\n",
        "  \"compilerOptions\": {\n",
        "    \"target\": \"ES2020\",\n",
        "    \"useDefineForClassFields\": true,\n",
        "    \"lib\": [\"ES2020\", \"DOM\", \"DOM.Iterable\"],\n",
        "    \"module\": \"ESNext\",\n",
        "    \"skipLibCheck\": true,\n",
        "\n",
        "    /* Bundler mode */\n",
        "    \"moduleResolution\": \"bundler\",\n",
        "    \"allowImportingTsExtensions\": true,\n",
        "    \"isolatedModules\": true,\n",
        "    \"moduleDetection\": \"force\",\n",
        "    \"noEmit\": true,\n",
        "    \"jsx\": \"react-jsx\",\n",
        "\n",
        "    /* Linting */\n",
        "    \"strict\": true,\n",
        "    \"noUnusedLocals\": true,\n",
        "    \"noUnusedParameters\": true,\n",
        "    \"noFallthroughCasesInSwitch\": true\n",
        "  },\n",
        "  \"include\": [\"src\"]\n",
        "}\n",
        "\n"
      ],
      "metadata": {
        "id": "iVzUjDvV9AUb"
      },
      "execution_count": null,
      "outputs": []
    },
    {
      "cell_type": "code",
      "source": [
        "\n",
        "{\n",
        "  \"compilerOptions\": {\n",
        "    \"target\": \"ES2022\",\n",
        "    \"lib\": [\"ES2023\"],\n",
        "    \"module\": \"ESNext\",\n",
        "    \"skipLibCheck\": true,\n",
        "\n",
        "    /* Bundler mode */\n",
        "    \"moduleResolution\": \"bundler\",\n",
        "    \"allowImportingTsExtensions\": true,\n",
        "    \"isolatedModules\": true,\n",
        "    \"moduleDetection\": \"force\",\n",
        "    \"noEmit\": true,\n",
        "\n",
        "    /* Linting */\n",
        "    \"strict\": true,\n",
        "    \"noUnusedLocals\": true,\n",
        "    \"noUnusedParameters\": true,\n",
        "    \"noFallthroughCasesInSwitch\": true\n",
        "  },\n",
        "  \"include\": [\"vite.config.ts\"]\n",
        "}\n",
        "\n"
      ],
      "metadata": {
        "id": "euU1Ss5M9DlO"
      },
      "execution_count": null,
      "outputs": []
    },
    {
      "cell_type": "code",
      "source": [
        "\n",
        "import react from '@vitejs/plugin-react-swc'\n",
        "import { defineConfig, UserConfig } from 'vite'\n",
        "\n",
        "// https://vitejs.dev/config/\n",
        "export default defineConfig(({ mode }) => {\n",
        "  let build: UserConfig['build'], esbuild: UserConfig['esbuild'], define: UserConfig['define']\n",
        "\n",
        "  if (mode === 'development') {\n",
        "    build = {\n",
        "      minify: false,\n",
        "    }\n",
        "\n",
        "    esbuild = {\n",
        "      jsxDev: true,\n",
        "    }\n",
        "\n",
        "    define = {\n",
        "      'process.env.NODE_ENV': '\"development\"',\n",
        "      __DEV__: 'true',\n",
        "    }\n",
        "  }\n",
        "\n",
        "  return {\n",
        "    plugins: [react()],\n",
        "    build,\n",
        "    esbuild,\n",
        "    define,\n",
        "    optimizeDeps: {\n",
        "      exclude: ['lucide-react'],\n",
        "    },\n",
        "  }\n",
        "})\n",
        "\n"
      ],
      "metadata": {
        "id": "d3UmPwLV9D03"
      },
      "execution_count": null,
      "outputs": []
    }
  ]
}